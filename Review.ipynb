{
 "cells": [
  {
   "cell_type": "code",
   "execution_count": 2,
   "id": "d175d9c3",
   "metadata": {},
   "outputs": [
    {
     "data": {
      "text/plain": [
       "['regression_model.joblib']"
      ]
     },
     "execution_count": 2,
     "metadata": {},
     "output_type": "execute_result"
    }
   ],
   "source": [
    "import os\n",
    "import pandas as pd\n",
    "from sklearn.model_selection import train_test_split\n",
    "from sklearn.feature_extraction.text import TfidfVectorizer\n",
    "from sklearn.linear_model import LinearRegression\n",
    "from sklearn.pipeline import make_pipeline\n",
    "from sklearn.preprocessing import StandardScaler\n",
    "from sklearn.metrics import mean_squared_error, r2_score\n",
    "\n",
    "# Путь к папкам с данными\n",
    "train_path = 'C:/Users/Susanna/anaconda3/train'\n",
    "test_path = 'C:/Users/Susanna/anaconda3/test'\n",
    "\n",
    "# Загрузка данных из папок\n",
    "def load_data(folder_path):\n",
    "    data = []\n",
    "    labels = []\n",
    "    for label in ['neg', 'pos']:\n",
    "        label_path = os.path.join(folder_path, label)\n",
    "        for file_name in os.listdir(label_path):\n",
    "            file_path = os.path.join(label_path, file_name)\n",
    "            with open(file_path, 'r', encoding='utf-8') as file:\n",
    "                content = file.read()\n",
    "                data.append(content)\n",
    "                # Добавляем проверку наличия рейтинга в имени файла\n",
    "                rating_start = file_name.find('_')\n",
    "                rating_end = file_name.find('.txt')\n",
    "                if rating_start != -1 and rating_end != -1:\n",
    "                    rating = int(file_name[rating_start+1:rating_end])\n",
    "                    labels.append({'content': content, 'rating': rating, 'sentiment': label})\n",
    "                else:\n",
    "                    labels.append(None)  # Если рейтинг отсутствует, можно указать None\n",
    "    return labels\n",
    "\n",
    "# Загрузка данных из папок\n",
    "train_data = load_data(train_path)\n",
    "test_data = load_data(test_path)\n",
    "\n",
    "# Фильтрация данных без рейтинга\n",
    "train_data = [item for item in train_data if item is not None]\n",
    "test_data = [item for item in test_data if item is not None]\n",
    "\n",
    "# Создание DataFrame для удобства работы с данными\n",
    "train_df = pd.DataFrame(train_data)\n",
    "test_df = pd.DataFrame(test_data)\n",
    "\n",
    "# Создание модели для предсказания рейтинга\n",
    "model = make_pipeline(\n",
    "    TfidfVectorizer(), \n",
    "    StandardScaler(with_mean=False),\n",
    "    LinearRegression()\n",
    ")\n",
    "\n",
    "# Обучение модели\n",
    "model.fit(train_df['content'], train_df['rating'])\n",
    "\n",
    "# Предсказание рейтинга для тестовых данных\n",
    "ratings_pred = model.predict(test_df['content'])\n",
    "\n",
    "# Оценка качества модели\n",
    "mse = mean_squared_error(test_df['rating'], ratings_pred)\n",
    "\n",
    "# Сохранение модели\n",
    "import joblib\n",
    "joblib.dump(model, 'regression_model.joblib')"
   ]
  },
  {
   "cell_type": "code",
   "execution_count": null,
   "id": "f81afccb",
   "metadata": {},
   "outputs": [],
   "source": []
  }
 ],
 "metadata": {
  "kernelspec": {
   "display_name": "Python 3 (ipykernel)",
   "language": "python",
   "name": "python3"
  },
  "language_info": {
   "codemirror_mode": {
    "name": "ipython",
    "version": 3
   },
   "file_extension": ".py",
   "mimetype": "text/x-python",
   "name": "python",
   "nbconvert_exporter": "python",
   "pygments_lexer": "ipython3",
   "version": "3.11.3"
  }
 },
 "nbformat": 4,
 "nbformat_minor": 5
}
